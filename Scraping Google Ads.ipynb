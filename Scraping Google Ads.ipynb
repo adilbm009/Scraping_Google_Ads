{
 "cells": [
  {
   "cell_type": "code",
   "execution_count": 355,
   "id": "0bcc521e",
   "metadata": {},
   "outputs": [],
   "source": [
    "from selenium import webdriver\n",
    "from selenium.webdriver.common.by import By\n",
    "from selenium.webdriver.common.action_chains import ActionChains\n",
    "from selenium.webdriver.common.keys import Keys\n",
    "import pandas as pd"
   ]
  },
  {
   "cell_type": "code",
   "execution_count": 378,
   "id": "67785516",
   "metadata": {},
   "outputs": [
    {
     "name": "stdout",
     "output_type": "stream",
     "text": [
      "search realme mobile\n"
     ]
    }
   ],
   "source": [
    "search = input(\"search \")\n",
    "driver = webdriver.Chrome()\n",
    "driver.get(\"https://www.google.com/\")\n",
    "time.sleep(4)\n",
    "\n",
    "action = ActionChains(driver)\n",
    "action.send_keys(search).perform()\n",
    "action.send_keys(Keys.ENTER).perform()\n",
    "\n",
    "image_ = []\n",
    "info_ = []\n",
    "try:\n",
    "    search_results = driver.find_elements(By.CLASS_NAME, \"top-pla-group-inner\")\n",
    "    for i in search_results:\n",
    "        images = i.find_elements(By.TAG_NAME, \"img\")\n",
    "        for image in images:\n",
    "            image_url = image.get_attribute(\"src\")\n",
    "            if image_url and not image_url.endswith(\"svg\"):\n",
    "                image_.append(image_url)\n",
    "        info_.append(i.text)\n",
    "\n",
    "                \n",
    "        \n",
    "except:\n",
    "    pass\n",
    "\n",
    "try:\n",
    "    search_results = driver.find_elements(By.CLASS_NAME, \"Yi78Pd\")\n",
    "    for i in search_results:\n",
    "        images = i.find_elements(By.TAG_NAME, \"img\")\n",
    "        for image in images:\n",
    "            image_url = image.get_attribute(\"src\")\n",
    "            if image_url and not image_url.endswith(\"svg\"):\n",
    "                image_.append(image_url)\n",
    "        info_.append(i.text)\n",
    "        \n",
    "        \n",
    "\n",
    "    \n",
    "    \n",
    "except:\n",
    "    pass\n",
    "ad_image = []\n",
    "for i in image_:\n",
    "    if len(i) > 500:\n",
    "        ad_image.append(i)\n",
    "\n",
    "if len(info_) == 0:\n",
    "    print(\"NO ADS FOUND\")\n",
    "\n",
    "driver.quit()\n",
    "\n",
    "try:\n",
    "    info = info_[0].split(\"\\n\")\n",
    "    name = []\n",
    "    price = []\n",
    "    address = []\n",
    "    for i in range(len(info)-1):\n",
    "        if info[i][1:].replace(\",\",\"\").isdigit():\n",
    "            name.append(info[i-1])\n",
    "            price.append(int(info[i][1:].replace(\",\",\"\")))\n",
    "            address.append(info[i+1])\n",
    "except:\n",
    "    pass\n",
    "\n",
    "\n",
    "data = {'name': name,\n",
    "        'price': price,\n",
    "        'address': address,\n",
    "        'image': ad_image}\n",
    "\n",
    "df = pd.DataFrame(data)\n",
    "file_path = search+ \"_\" + str(datetime.now()).split(\".\")[0].replace(\":\", \"_\") + \".csv\" \n",
    "df.to_csv(file_path, index= False)\n",
    "\n"
   ]
  },
  {
   "cell_type": "code",
   "execution_count": null,
   "id": "35822134",
   "metadata": {},
   "outputs": [],
   "source": []
  }
 ],
 "metadata": {
  "kernelspec": {
   "display_name": "Python 3 (ipykernel)",
   "language": "python",
   "name": "python3"
  },
  "language_info": {
   "codemirror_mode": {
    "name": "ipython",
    "version": 3
   },
   "file_extension": ".py",
   "mimetype": "text/x-python",
   "name": "python",
   "nbconvert_exporter": "python",
   "pygments_lexer": "ipython3",
   "version": "3.10.3"
  }
 },
 "nbformat": 4,
 "nbformat_minor": 5
}
